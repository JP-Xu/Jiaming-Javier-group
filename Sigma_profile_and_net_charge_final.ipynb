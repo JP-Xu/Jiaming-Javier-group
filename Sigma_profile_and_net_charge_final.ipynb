{
 "cells": [
  {
   "cell_type": "markdown",
   "metadata": {},
   "source": [
    "# Sigma profile generator"
   ]
  },
  {
   "cell_type": "code",
   "execution_count": 10,
   "metadata": {
    "collapsed": true
   },
   "outputs": [],
   "source": [
    "from numpy import *\n",
    "import numpy as np\n",
    "import random\n",
    "import re\n",
    "import sys\n",
    "from matplotlib import pyplot as plt\n",
    "import os          \n",
    "au_to_A = double(1.8897259885789)\n",
    "reff = 0.5\n",
    "sp=np.zeros((2,51))\n",
    "aream=[[],[]]\n",
    "aa=[]\n",
    "def SGaverager (fileName0,fileName1):\n",
    "    '''\n",
    "        Import the file you want to process, then give you the cosmo volume, cosmo area, and averaged sigma profile. Export to sigma profiles folder.\n",
    "    \n",
    "    '''\n",
    "    global count\n",
    "    count = int(0)\n",
    "\n",
    "    #open cosmo data file\n",
    "    for fileName in (fileName0,fileName1):\n",
    "        \n",
    "        f = open(fileName)\n",
    "        #read through each line in the file\n",
    "        lines = f.readlines()\n",
    "        lenth = len(lines)\n",
    "        data_lines = f.readlines(69)\n",
    "        # search cosmo 'area' and 'volume' in the file then convert unit to A\n",
    "        f.close\n",
    "        posxl, posyl, poszl, chargel,areal,sigmal,potentl, rad= [],[],[],[],[],[],[],[]\n",
    "        \n",
    "        for i in range (lenth):\n",
    "\n",
    "            # find total number of segments\n",
    "            if 'total number of segments' in lines[i]:\n",
    "                num_segments = re.findall(r\"\\d+\\.?\\d*\",lines[i])\n",
    "                num_segments = int(num_segments[0])\n",
    "\n",
    "            if 'Surface area' in lines[i]:\n",
    "\n",
    "                #extract numbers from two lines\n",
    "                cosmo_area = re.findall(r\"\\d+\\.?\\d*\",lines[i])\n",
    "                cosmo_volume = re.findall(r\"\\d+\\.?\\d*\",lines[i+1])\n",
    "                #convert to A unit\n",
    "                cosmo_area,cosmo_volume = float(cosmo_area[0])/(float(au_to_A)**2),float(cosmo_volume[0])/(float(au_to_A**3))\n",
    "                aa.append(cosmo_area)\n",
    "                break\n",
    "                \n",
    "                \n",
    "        #split all data into 7 columes\n",
    "        for i in range(lenth-num_segments,lenth):\n",
    "            line_data = re.findall(r\"\\-?\\d+\\.?\\d*\",lines[i])\n",
    "            resultsl = posx, posy, posz, charge, area, sigma, potent= double(line_data[2:])\n",
    "            # make 7 lists containing data\n",
    "            posxl.append(posx/au_to_A )\n",
    "            posyl.append(posy/au_to_A)\n",
    "            poszl.append(posz/au_to_A)\n",
    "            chargel.append(charge)\n",
    "            areal.append(area/au_to_A**2)\n",
    "            sigmal.append(sigma*au_to_A**2)\n",
    "            potentl.append(potent)\n",
    "            rad.append(sqrt(area/np.pi))\n",
    "        print('The file',fileName,'is processing.')\n",
    "        \n",
    "        \n",
    "        global sigmanew\n",
    "        dmn,sigmasum,normsum,sigmanew,normdist = np.zeros(num_segments),np.zeros(num_segments),np.zeros(num_segments),np.zeros(num_segments),np.zeros(num_segments)\n",
    "        for i in range(num_segments):\n",
    "            for j in range(num_segments):\n",
    "                dmn[j] = sqrt((posxl[j]-posxl[i])**2+(posyl[j]-posyl[i])**2+ (poszl[j]-poszl[i])**2)\n",
    "                sigmasum[j]= sigmal[j]*(rad[j]**2*reff**2)/(rad[j]**2+reff**2)* np.exp(-(dmn[j]**2)/(rad[j]**2+reff**2))\n",
    "                normdist[j] =((rad[j]**2*reff**2)/(rad[j]**2+reff**2))*np.exp(-(dmn[j]**2)/(rad[j]**2+reff**2))\n",
    "                normsum[i] = normsum[i] + normdist[j]\n",
    "                sigmanew[i] = sigmanew[i] + sigmasum[j]\n",
    "            sigmanew[i] = sigmanew[i]/normsum[i]\n",
    "        \n",
    "        # sp is 2 * 51 array contains sigma profiles of two molecule\n",
    "        global chgden\n",
    "        chgden=np.zeros(51)\n",
    "        for i in range(51):\n",
    "            chgden[i]=-0.025 + 0.001*(i)\n",
    "        #sigma profile sorting taken from lin dissertation\n",
    "        for i in range(num_segments):\n",
    "            tmp = int((sigmanew[i]-chgden[0])/double(0.001))\n",
    "            sp[count][tmp] = sp[count][tmp] + areal[i]*(chgden[tmp+1]-sigmanew[i])/double(0.001)\n",
    "            sp[count][tmp+1] = sp[count][tmp+1] + areal[i]*(sigmanew[i]-chgden[tmp])/double(0.001)\n",
    "    \n",
    "        aream[count] = areal\n",
    "        count = count +1\n",
    "        \n",
    "    sps=(sp[0]*aa[0]+sp[1]*aa[1])/sum(aa)\n",
    "    plt.plot(chgden,sps)\n",
    "    plt.show()\n",
    "    plt.xlabel('$σ [e/(A²)]$')\n",
    "    plt.ylabel('$P^x (σ)$')\n",
    "    \n",
    "    if not os.path.exists('./sigma profiles') :\n",
    "        os.mkdir('./sigma profiles')\n",
    "    savingtxtmsg = open('./sigma profiles/{}'.format(fileName0+fileName1), 'a')\n",
    "    for i in range(50):\n",
    "        savingtxtmsg.write('{} {}'.format('%.3f' % chgden[i],'%.3f' %sps[i]))\n",
    "        savingtxtmsg.write('\\n')\n",
    "    savingtxtmsg.close()\n",
    "    print('Congratulations! Your sigma profile has been generated. simga profile saved in sigma profiles folder')\n",
    "\n",
    "        #<<<<<<<<<<<<<<<<<<<<<<<<<<<<<<<<<<<THIS IS THE END OF AVERAGNG PART.<<<<<<<<<<<<<<<<<<<<<<<<<<<<<<<<<<<\n",
    "        \n",
    "    #>>>>>>>>>>    "
   ]
  },
  {
   "cell_type": "code",
   "execution_count": 11,
   "metadata": {
    "scrolled": true
   },
   "outputs": [
    {
     "name": "stdout",
     "output_type": "stream",
     "text": [
      "The file MMIM.txt is processing.\n",
      "The file Cl.txt is processing.\n"
     ]
    },
    {
     "data": {
      "image/png": "[encoded data removed]",
      "text/plain": [
       "<matplotlib.figure.Figure at 0x18d8c0df4e0>"
      ]
     },
     "metadata": {},
     "output_type": "display_data"
    },
    {
     "name": "stdout",
     "output_type": "stream",
     "text": [
      "Congratulations! Your sigma profile has been generated. simga profile saved in sigma profiles folder\n"
     ]
    }
   ],
   "source": [
    "SGaverager('MMIM.txt','Cl.txt')"
   ]
  },
  {
   "cell_type": "markdown",
   "metadata": {},
   "source": [
    "# Net Charge determination"
   ]
  },
  {
   "cell_type": "code",
   "execution_count": 12,
   "metadata": {},
   "outputs": [
    {
     "name": "stdout",
     "output_type": "stream",
     "text": [
      "0.00384670980170784\n"
     ]
    }
   ],
   "source": [
    "sps=(sp[0]*aa[0]+sp[1]*aa[1])/sum(aa)\n",
    "number_of_segments_by_its_charge = chgden * sps\n",
    "sum_number_of_segments_by_its_charge = sum(number_of_segments_by_its_charge)\n",
    "sum_number_of_segments = sum(sps)\n",
    "net_charge = (-1)*sum_number_of_segments_by_its_charge/sum_number_of_segments\n",
    "print(net_charge)"
   ]
  },
  {
   "cell_type": "code",
   "execution_count": null,
   "metadata": {
    "collapsed": true
   },
   "outputs": [],
   "source": []
  }
 ],
 "metadata": {
  "kernelspec": {
   "display_name": "Python 3",
   "language": "python",
   "name": "python3"
  },
  "language_info": {
   "codemirror_mode": {
    "name": "ipython",
    "version": 3
   },
   "file_extension": ".py",
   "mimetype": "text/x-python",
   "name": "python",
   "nbconvert_exporter": "python",
   "pygments_lexer": "ipython3",
   "version": "3.6.3"
  }
 },
 "nbformat": 4,
 "nbformat_minor": 2
}
